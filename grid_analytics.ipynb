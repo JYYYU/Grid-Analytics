{
 "cells": [
  {
   "cell_type": "code",
   "execution_count": 1,
   "metadata": {},
   "outputs": [],
   "source": [
    "import pandas as pd\n",
    "import numpy as np\n",
    "import matplotlib.pyplot as plt\n",
    "import seaborn as sns\n",
    "from grid_analytics_helper import *"
   ]
  },
  {
   "cell_type": "markdown",
   "metadata": {},
   "source": [
    "# 1.0 Data\n",
    "\n",
    "All relevant methods to grab data are located in the pjm_retrieve_data.py. \n",
    "\n",
    "Following the rules for DataMiner2, \"Note that information and data contained in Data Miner is for internal use only and redistribution of information and or\n",
    "data contained in or derived from Data Miner is strictly prohibited without a PJM membership.\""
   ]
  },
  {
   "cell_type": "code",
   "execution_count": null,
   "metadata": {},
   "outputs": [],
   "source": [
    "dataframe_file_path = \"./dataframes/\" # Change to your folder\n",
    "zonal_lmp_file_name = \"jul_2020_jul_2024_zonal_lmps\"\n",
    "daily_gen_cap_file_name = \"jul_2020_jul_2024_daily_capacity_generation\"\n",
    "gen_outage_file_name = \"jul_2020_jul_2024_generation_outages\"\n",
    "zone_to_region_name = \"zone_to_region\"\n",
    "output_file_name = \"jul_2020_jul_2024_historical_grid_data\"\n",
    "\n",
    "# Read in data\n",
    "lmp_data = pd.read_parquet(f\"{dataframe_file_path}{zonal_lmp_file_name}.parquet\", engine=\"pyarrow\")\n",
    "generation_capacity = pd.read_parquet(f\"{dataframe_file_path}{daily_gen_cap_file_name}.parquet\", engine=\"pyarrow\")\n",
    "outage_seven_days = pd.read_parquet(f\"{dataframe_file_path}{gen_outage_file_name}.parquet\", engine=\"pyarrow\")\n",
    "zone_to_region = pd.read_parquet(f\"{dataframe_file_path}{zone_to_region_name}.parquet\", engine=\"pyarrow\")"
   ]
  },
  {
   "cell_type": "markdown",
   "metadata": {},
   "source": [
    "# 2.0 Merge Data\n",
    "\n",
    "The purpose to understand supply-demand dynamics and operational constraints vs. congestion.\n",
    "\n",
    "**First:** Merge LMP and Daily Generation Capacity Data Together\n",
    "\n",
    "**Rationale:** Generation Capacity Influences Congestion and LMPs.\n",
    "\n",
    "By merging these datasets, we can analyze how variations in capacity impact LMPs (Ex. high LMPs during periods of tight capacity margins).\n",
    "\n",
    "Incorporate capacity margins into congestion spread forecasting models to predict future grid stress and congestion events.\n",
    "\n",
    "**Handling Potential Missing Data From Daily Generation Capacity:**\n",
    "\n",
    "To deal with any missing values from the daily generation capacity data, a linear interpolation is applied because generation capacity changes gradually, making linear interpolation ideal for filling gaps without introducing bias. Use of forward-fill or backward-fill would only assume that capacity remains constant over time.\n",
    "\n",
    "**Second:** Merge on Generation Outage for Seven Days Data\n",
    "\n",
    "**Rationale:** Outages directly impact grid reliability and congestion. Incorporating near-term outage risks (ie.Seven days outage data) can be used to identify near-term congestion caused by planned or unplanned outages, which can be important in real-time market analysis or bidding strategies.\n",
    "\n",
    "Outages reduce the available generation capacity, which:\n",
    "- Lowers the grid’s ability to meet demand, especially during peak hours.\n",
    "- Forces reliance on less efficient or more expensive generators, leading to higher LMPs and increased congestion risk.\n",
    "\n",
    "Adds Predictive Power to Congestion Forecasts\n",
    "- Total Outages (MW): The overall reduction in capacity, which directly correlates with congestion risk.\n",
    "- A new feature will be generated \n",
    "\n",
    "**Handling Potential Missing Data from the Generation Outage for Seven Days Data:**\n",
    "\n",
    "Without adding in to much complexity, a fill-forward interpolation will be applied at the region level. Fill-forward interpolation was selected purely considering the fact that outages are discrete events that do not vary continuously."
   ]
  },
  {
   "cell_type": "code",
   "execution_count": null,
   "metadata": {},
   "outputs": [],
   "source": [
    "data = merge_historical_data(lmp_data, generation_capacity, outage_seven_days, zone_to_region)"
   ]
  },
  {
   "cell_type": "markdown",
   "metadata": {},
   "source": [
    "# 3.0 Feature Engineering\n",
    "\n",
    "Let's introduce congestion-related features/metrics into the merged dataset.\n",
    "\n",
    "**Note:** Not all will be incorporated into the modelling phases, but rather as a \"trial and error\" place for me to better understand the market."
   ]
  },
  {
   "cell_type": "markdown",
   "metadata": {},
   "source": [
    "## 3.1  Locational Marginal Pricing (LMP) Trends\n",
    "\n",
    "These features will provide information for understanding LMP trends and volatility at each node on an hourly basis in each region."
   ]
  },
  {
   "cell_type": "markdown",
   "metadata": {},
   "source": [
    "### 3.1.1 LMP Delta\n",
    "\n",
    "**LMP Delta:** Tracks the hourly change in LMP for each pricing node.\n",
    "\n",
    "**Formula:** $\\text{LMP Delta} = \\text{LMP}_{t} - \\text{LMP}_{(t-1)}$\n",
    "\n",
    "**LMP Absolute Delta:** Tracks the magnitude of the changes in LMP.\n",
    "\n",
    "**Formula:** $\\text{LMP Delta} = |\\text{LMP}_{t} - \\text{LMP}_{(t-1)}|$"
   ]
  },
  {
   "cell_type": "code",
   "execution_count": null,
   "metadata": {},
   "outputs": [],
   "source": [
    "data = create_lmp_delta(data)"
   ]
  },
  {
   "cell_type": "markdown",
   "metadata": {},
   "source": [
    "### 3.1.2 LMP Volatility \n",
    "\n",
    "By using a rolling standard deviation over every 24 hour period, this can provide a measure of variability of LMPs and potentially help identify price instability at specific nodes or region."
   ]
  },
  {
   "cell_type": "code",
   "execution_count": null,
   "metadata": {},
   "outputs": [],
   "source": [
    "data = create_lmp_volatility(data)"
   ]
  },
  {
   "cell_type": "markdown",
   "metadata": {},
   "source": [
    "## 3.2 Outage Metrics \n",
    "\n",
    "These metrics are critical for understanding grid performance, as they reflect the capacity and reliability of the system."
   ]
  },
  {
   "cell_type": "markdown",
   "metadata": {},
   "source": [
    "### 3.2.1 Forced Outage Percentage\n",
    "\n",
    "This feature will measure the share outages due to unplanned (forced) events.\n",
    "\n",
    "**Higher Fourced Outage Percentage** indicates greater system stress or unexpected maintenance issues.\n",
    "\n",
    "**Formula:** $\\text{Forced Outage Percentage} = \\frac{\\text{Forced Outages (MW)}}{\\text{Total Outages (MW)}} \\times 100$\n"
   ]
  },
  {
   "cell_type": "code",
   "execution_count": null,
   "metadata": {},
   "outputs": [],
   "source": [
    "data = create_forced_outage_pct(data)"
   ]
  },
  {
   "cell_type": "markdown",
   "metadata": {},
   "source": [
    "### 3.2.2 Outage Intensity\n",
    "\n",
    "This feature measures how much of the available generation capacity is affected by outages at a node, zone, or region.\n",
    "\n",
    "**Formula:** $\\text{Outage Intensity} = \\frac{\\text{Total Outages (MW)}}{\\text{Economic Max (MW)}} \\times 100$\n",
    "\n",
    "\n",
    "Note:\n",
    "- Total Outages is daily data.\n",
    "- Economic Max is hourly data\n",
    "\n",
    "For this feature, it will be completed with daily regional graularity in which economic max features will be converted to daily averages. This way introducing artificial hourly variability can be avoided and interpretability can be preserved."
   ]
  },
  {
   "cell_type": "code",
   "execution_count": null,
   "metadata": {},
   "outputs": [],
   "source": [
    "data = create_outage_intensity(data)"
   ]
  },
  {
   "cell_type": "markdown",
   "metadata": {},
   "source": [
    "# 3.3 Stress Indicators\n",
    "\n",
    "Stress indicators are equally crucial for capturing grid stability and identifying congestion risks. The introduce of the following features will hopefully provide insights into how different regions of the system as a whole is coping with outages, capacity constraints, and demand surges."
   ]
  },
  {
   "cell_type": "markdown",
   "metadata": {},
   "source": [
    "### 3.3.1 Capacity Margin\n",
    "\n",
    "The available generation capacity (represented by Economic Max, Emergency Max, and Total Committed) directly impacts grid stress and congestion:\n",
    "- Low capacity margins: A small buffer between Economic Max and Total Committed leaves the grid vulnerable to congestion and price spikes.\n",
    "- High capacity margins: Ample available generation allows the system to respond flexibly to unexpected demand or transmission constraints, reducing congestion and stabilizing prices.\n",
    "\n",
    "This feature will provide information on the buffer available to meet unexpected demand or supply fluctuations.\n",
    "\n",
    "**Formula:** $\\text{Capacity Margin} \\left( \\% \\right) = \\frac{\\text{Economic Max} - \\text{Total Commited}}{\\text{Economic Max}} \\times 100$"
   ]
  },
  {
   "cell_type": "code",
   "execution_count": null,
   "metadata": {},
   "outputs": [],
   "source": [
    "data = create_capacity_margin(data)"
   ]
  },
  {
   "cell_type": "markdown",
   "metadata": {},
   "source": [
    "### 3.3.2 Region Stress Ratio\n",
    "\n",
    "This feature will aid in comparing regional outages to system-wide outages to identify disproportionately stressed regions.\n",
    "\n",
    "**Formula:** $\\text{Region Stress Ratio} = \\frac{\\text{Total Outages (MW)}}{\\text{RTO Total Outages (MW)}} \\times 100$"
   ]
  },
  {
   "cell_type": "code",
   "execution_count": null,
   "metadata": {},
   "outputs": [],
   "source": [
    "data = create_region_stress_ratio(data)"
   ]
  },
  {
   "cell_type": "markdown",
   "metadata": {},
   "source": [
    "### 3.3.3 Emergency Trigger\n",
    "\n",
    "**Emergency Triggered:** This feature flags when the current demand exceeds the optimal limit (Economic Max).\n",
    "\n",
    "**Formula:** $\\text{Emergency Triggered} = \\text{Total Committed} \\gt \\text{Economic Max}$"
   ]
  },
  {
   "cell_type": "code",
   "execution_count": null,
   "metadata": {},
   "outputs": [],
   "source": [
    "data = create_emergency_triggered(data)"
   ]
  },
  {
   "cell_type": "markdown",
   "metadata": {},
   "source": [
    "### 3.3.4 Near Emergency Threshold\n",
    "\n",
    "**Near Emergency Threshold:** This feature is meant to signal an early warning for grid stress before reaching full capacity under normal operating conditions. The threshold here is set at 95% of the Economic Max.\n",
    "\n",
    "**Formula:** $\\text{Near Emergency Threshold} = \\text{Total Committed} \\gt 0.95 \\times \\text{Economic Max}$"
   ]
  },
  {
   "cell_type": "code",
   "execution_count": null,
   "metadata": {},
   "outputs": [],
   "source": [
    "data = create_near_emergency(data)"
   ]
  },
  {
   "cell_type": "markdown",
   "metadata": {},
   "source": [
    "## Output Data"
   ]
  },
  {
   "cell_type": "code",
   "execution_count": null,
   "metadata": {},
   "outputs": [],
   "source": [
    "data.to_parquet(f\"{dataframe_file_path}{output_file_name}.parquet\", index=False, engine=\"pyarrow\")"
   ]
  },
  {
   "cell_type": "markdown",
   "metadata": {},
   "source": [
    "# 4.0 EDA"
   ]
  },
  {
   "cell_type": "code",
   "execution_count": null,
   "metadata": {},
   "outputs": [],
   "source": [
    "mdata = pd.read_parquet(f\"{dataframe_file_path}{output_file_name}.parquet\", engine=\"pyarrow\") # the merged data"
   ]
  },
  {
   "cell_type": "markdown",
   "metadata": {},
   "source": [
    "# 4.1 Check for Missing Data\n",
    "\n",
    "This should not be an issue, as this issue has been dealt with at every step in the data creation process. However, for the sake of completeness we will check."
   ]
  },
  {
   "cell_type": "code",
   "execution_count": null,
   "metadata": {},
   "outputs": [],
   "source": [
    "missing_data = mdata.isnull().sum()\n",
    "missing_columns = missing_data[missing_data > 0]\n",
    "print(\"Columns with Missing Values:\\n\", missing_columns)"
   ]
  },
  {
   "cell_type": "markdown",
   "metadata": {},
   "source": [
    "# 4.2 Feature Exploration \n",
    "\n",
    "**I will add as I refine the plots!**"
   ]
  },
  {
   "cell_type": "markdown",
   "metadata": {},
   "source": [
    "# 5.0 Predictions"
   ]
  },
  {
   "cell_type": "markdown",
   "metadata": {},
   "source": [
    "## 5.1 Emergency Triggers\n",
    "\n",
    "- **Target Variable**: Binary 0 (Not Triggered) vs. 1 (Triggered)\n",
    "- **Feature:** \n",
    "    - **Temporal Features:** 'hour, day_of_week, month, is_weekend, and season' capture time-based patterns in the grid's operation.\n",
    "    - **Lagged Features:** Lag by 1 hour, 3 hours, 6 hours, and 1 day\n",
    "        - near_emergency: If the grid is near its emergency state, the likelihood of triggering an emergency increases.\n",
    "        - capacity_margin: Shows how close the system has been to resource limits.\n",
    "        - lmp_volatility: Reflects pricing stress, which could precede emergency conditions.\n",
    "    - **Rolling Windows:** Rolling windows are 3 hours, 6 hours, and 1 day\n",
    "        - lmp_volatility and region_stress_ratio: A spike in stress or volatility might last for hours/days before triggering an emergency. \n",
    "        - **Note:** *Rolling averages smooth noisy data and capture broader trends*"
   ]
  },
  {
   "cell_type": "code",
   "execution_count": null,
   "metadata": {},
   "outputs": [],
   "source": [
    "mdata1 = emergency_trigger_set_up(mdata)\n",
    "mdata1.head()"
   ]
  },
  {
   "cell_type": "markdown",
   "metadata": {},
   "source": []
  },
  {
   "cell_type": "code",
   "execution_count": null,
   "metadata": {},
   "outputs": [],
   "source": [
    "x_train, x_test = walk_forward_validation_et(mdata1, target_column=\"emergency_triggered\", models_to_use=[\"decision_tree\"], gap=24)"
   ]
  },
  {
   "cell_type": "code",
   "execution_count": null,
   "metadata": {},
   "outputs": [],
   "source": [
    "results = walk_forward_validation_et(mdata1, target_column=\"emergency_triggered\", models_to_use=[\"decision_tree\"])"
   ]
  },
  {
   "cell_type": "code",
   "execution_count": null,
   "metadata": {},
   "outputs": [],
   "source": [
    "folds = []\n",
    "f1_scores = []\n",
    "for dicts in results[\"decision_tree\"]:\n",
    "    folds.append(dicts[\"fold\"])\n",
    "    f1_scores.append(dicts[\"f1_score\"])\n",
    "f1_scores\n",
    "\n",
    "plt.figure(figsize=(8, 5))\n",
    "plt.plot(folds, f1_scores, marker='o', linestyle='-', color='blue')\n",
    "plt.title(\"Decision Tree F1-Scores Across Folds\")\n",
    "plt.xlabel(\"Fold\")\n",
    "plt.ylabel(\"F1-Score\")\n",
    "plt.ylim(0.9, 1.1)\n",
    "plt.grid()\n",
    "plt.show()"
   ]
  },
  {
   "cell_type": "code",
   "execution_count": null,
   "metadata": {},
   "outputs": [],
   "source": [
    "results[\"decision_tree\"][0]"
   ]
  }
 ],
 "metadata": {
  "kernelspec": {
   "display_name": ".venv",
   "language": "python",
   "name": "python3"
  },
  "language_info": {
   "codemirror_mode": {
    "name": "ipython",
    "version": 3
   },
   "file_extension": ".py",
   "mimetype": "text/x-python",
   "name": "python",
   "nbconvert_exporter": "python",
   "pygments_lexer": "ipython3",
   "version": "3.12.0"
  }
 },
 "nbformat": 4,
 "nbformat_minor": 2
}
