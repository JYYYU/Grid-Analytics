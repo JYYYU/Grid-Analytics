{
 "cells": [
  {
   "cell_type": "code",
   "execution_count": 1,
   "metadata": {},
   "outputs": [],
   "source": [
    "import pandas as pd\n",
    "import numpy as np\n",
    "import matplotlib.pyplot as plt\n",
    "import seaborn as sns\n",
    "from grid_analytics_helper import *"
   ]
  },
  {
   "cell_type": "markdown",
   "metadata": {},
   "source": [
    "---\n",
    "# 1.0 Data"
   ]
  },
  {
   "cell_type": "markdown",
   "metadata": {},
   "source": [
    "All relevant methods to grab data are located in the pjm_retrieve_data.py. \n",
    "\n",
    "Following the rules for DataMiner2, \"Note that information and data contained in Data Miner is for internal use only and redistribution of information and or\n",
    "data contained in or derived from Data Miner is strictly prohibited without a PJM membership.\""
   ]
  },
  {
   "cell_type": "code",
   "execution_count": 2,
   "metadata": {},
   "outputs": [],
   "source": [
    "dataframe_file_path = \"./dataframes/\" # Change to your folder\n",
    "model_output_path = \"./models/\" # model saved path\n",
    "zonal_lmp_file_name = \"jul_2020_jul_2024_zonal_lmps\"\n",
    "daily_gen_cap_file_name = \"jul_2020_jul_2024_daily_capacity_generation\"\n",
    "gen_outage_file_name = \"jul_2020_jul_2024_generation_outages\"\n",
    "zone_to_region_name = \"zone_to_region\"\n",
    "output_file_name = \"jul_2020_jul_2024_historical_grid_data\""
   ]
  },
  {
   "cell_type": "code",
   "execution_count": null,
   "metadata": {},
   "outputs": [],
   "source": [
    "# Read in data\n",
    "lmp_data = pd.read_parquet(f\"{dataframe_file_path}{zonal_lmp_file_name}.parquet\", engine=\"pyarrow\")\n",
    "generation_capacity = pd.read_parquet(f\"{dataframe_file_path}{daily_gen_cap_file_name}.parquet\", engine=\"pyarrow\")\n",
    "outage_seven_days = pd.read_parquet(f\"{dataframe_file_path}{gen_outage_file_name}.parquet\", engine=\"pyarrow\")\n",
    "zone_to_region = pd.read_parquet(f\"{dataframe_file_path}{zone_to_region_name}.parquet\", engine=\"pyarrow\")"
   ]
  },
  {
   "cell_type": "markdown",
   "metadata": {},
   "source": [
    "---\n",
    "# 2.0 Merge Data"
   ]
  },
  {
   "cell_type": "markdown",
   "metadata": {},
   "source": [
    "The purpose to understand supply-demand dynamics and operational constraints vs. congestion.\n",
    "\n",
    "**First:** Merge LMP and Daily Generation Capacity Data Together\n",
    "\n",
    "**Rationale:** Generation Capacity Influences Congestion and LMPs.\n",
    "\n",
    "By merging these datasets, we can analyze how variations in capacity impact LMPs (Ex. high LMPs during periods of tight capacity margins).\n",
    "\n",
    "Incorporate capacity margins into congestion spread forecasting models to predict future grid stress and congestion events.\n",
    "\n",
    "**Handling Potential Missing Data From Daily Generation Capacity:**\n",
    "\n",
    "To deal with any missing values from the daily generation capacity data, a linear interpolation is applied because generation capacity changes gradually, making linear interpolation ideal for filling gaps without introducing bias. Use of forward-fill or backward-fill would only assume that capacity remains constant over time.\n",
    "\n",
    "**Second:** Merge on Generation Outage for Seven Days Data\n",
    "\n",
    "**Rationale:** Outages directly impact grid reliability and congestion. Incorporating near-term outage risks (ie.Seven days outage data) can be used to identify near-term congestion caused by planned or unplanned outages, which can be important in real-time market analysis or bidding strategies.\n",
    "\n",
    "Outages reduce the available generation capacity, which:\n",
    "- Lowers the grid’s ability to meet demand, especially during peak hours.\n",
    "- Forces reliance on less efficient or more expensive generators, leading to higher LMPs and increased congestion risk.\n",
    "\n",
    "Adds Predictive Power to Congestion Forecasts\n",
    "- Total Outages (MW): The overall reduction in capacity, which directly correlates with congestion risk.\n",
    "- A new feature will be generated \n",
    "\n",
    "**Handling Potential Missing Data from the Generation Outage for Seven Days Data:**\n",
    "\n",
    "Without adding in to much complexity, a fill-forward interpolation will be applied at the region level. Fill-forward interpolation was selected purely considering the fact that outages are discrete events that do not vary continuously."
   ]
  },
  {
   "cell_type": "code",
   "execution_count": null,
   "metadata": {},
   "outputs": [],
   "source": [
    "data = merge_historical_data(lmp_data, generation_capacity, outage_seven_days, zone_to_region)"
   ]
  },
  {
   "cell_type": "markdown",
   "metadata": {},
   "source": [
    "---\n",
    "# 3.0 Feature Engineering"
   ]
  },
  {
   "cell_type": "markdown",
   "metadata": {},
   "source": [
    "Let's introduce congestion-related features/metrics into the merged dataset.\n",
    "\n",
    "**Note:** Not all will be incorporated into the modelling phases, but rather as a \"trial and error\" place for me to better understand the market."
   ]
  },
  {
   "cell_type": "markdown",
   "metadata": {},
   "source": [
    "## 3.1  Locational Marginal Pricing (LMP) Trends\n",
    "\n",
    "These features will provide information for understanding LMP trends and volatility at each node on an hourly basis in each region."
   ]
  },
  {
   "cell_type": "markdown",
   "metadata": {},
   "source": [
    "### 3.1.1 LMP Delta\n",
    "\n",
    "**LMP Delta:** Tracks the hourly change in LMP for each pricing node.\n",
    "\n",
    "**Formula:** $\\text{LMP Delta} = \\text{LMP}_{t} - \\text{LMP}_{(t-1)}$\n",
    "\n",
    "**LMP Absolute Delta:** Tracks the magnitude of the changes in LMP.\n",
    "\n",
    "**Formula:** $\\text{LMP Delta} = |\\text{LMP}_{t} - \\text{LMP}_{(t-1)}|$"
   ]
  },
  {
   "cell_type": "code",
   "execution_count": null,
   "metadata": {},
   "outputs": [],
   "source": [
    "data = create_lmp_delta(data)"
   ]
  },
  {
   "cell_type": "markdown",
   "metadata": {},
   "source": [
    "### 3.1.2 LMP Volatility \n",
    "\n",
    "By using a rolling standard deviation over every 24 hour period, this can provide a measure of variability of LMPs and potentially help identify price instability at specific nodes or region."
   ]
  },
  {
   "cell_type": "code",
   "execution_count": null,
   "metadata": {},
   "outputs": [],
   "source": [
    "data = create_lmp_volatility(data)"
   ]
  },
  {
   "cell_type": "markdown",
   "metadata": {},
   "source": [
    "## 3.2 Outage Metrics \n",
    "\n",
    "These metrics are critical for understanding grid performance, as they reflect the capacity and reliability of the system."
   ]
  },
  {
   "cell_type": "markdown",
   "metadata": {},
   "source": [
    "### 3.2.1 Forced Outage Percentage\n",
    "\n",
    "This feature will measure the share outages due to unplanned (forced) events.\n",
    "\n",
    "**Higher Fourced Outage Percentage** indicates greater system stress or unexpected maintenance issues.\n",
    "\n",
    "**Formula:** $\\text{Forced Outage Percentage} = \\frac{\\text{Forced Outages (MW)}}{\\text{Total Outages (MW)}} \\times 100$\n"
   ]
  },
  {
   "cell_type": "code",
   "execution_count": null,
   "metadata": {},
   "outputs": [],
   "source": [
    "data = create_forced_outage_pct(data)"
   ]
  },
  {
   "cell_type": "markdown",
   "metadata": {},
   "source": [
    "### 3.2.2 Outage Intensity\n",
    "\n",
    "This feature measures how much of the available generation capacity is affected by outages at a node, zone, or region.\n",
    "\n",
    "**Formula:** $\\text{Outage Intensity} = \\frac{\\text{Total Outages (MW)}}{\\text{Economic Max (MW)}} \\times 100$\n",
    "\n",
    "\n",
    "Note:\n",
    "- Total Outages is daily data.\n",
    "- Economic Max is hourly data\n",
    "\n",
    "For this feature, it will be completed with daily regional graularity in which economic max features will be converted to daily averages. This way introducing artificial hourly variability can be avoided and interpretability can be preserved."
   ]
  },
  {
   "cell_type": "code",
   "execution_count": null,
   "metadata": {},
   "outputs": [],
   "source": [
    "data = create_outage_intensity(data)"
   ]
  },
  {
   "cell_type": "markdown",
   "metadata": {},
   "source": [
    "## 3.3 Stress Indicators\n",
    "\n",
    "Stress indicators are equally crucial for capturing grid stability and identifying congestion risks. The introduce of the following features will hopefully provide insights into how different regions of the system as a whole is coping with outages, capacity constraints, and demand surges."
   ]
  },
  {
   "cell_type": "markdown",
   "metadata": {},
   "source": [
    "### 3.3.1 Capacity Margin\n",
    "\n",
    "The available generation capacity (represented by Economic Max, Emergency Max, and Total Committed) directly impacts grid stress and congestion:\n",
    "- Low capacity margins: A small buffer between Economic Max and Total Committed leaves the grid vulnerable to congestion and price spikes.\n",
    "- High capacity margins: Ample available generation allows the system to respond flexibly to unexpected demand or transmission constraints, reducing congestion and stabilizing prices.\n",
    "\n",
    "This feature will provide information on the buffer available to meet unexpected demand or supply fluctuations.\n",
    "\n",
    "**Formula:** $\\text{Capacity Margin} \\left( \\% \\right) = \\frac{\\text{Economic Max} - \\text{Total Commited}}{\\text{Economic Max}} \\times 100$"
   ]
  },
  {
   "cell_type": "code",
   "execution_count": null,
   "metadata": {},
   "outputs": [],
   "source": [
    "data = create_capacity_margin(data)"
   ]
  },
  {
   "cell_type": "markdown",
   "metadata": {},
   "source": [
    "### 3.3.2 Region Stress Ratio\n",
    "\n",
    "This feature will aid in comparing regional outages to system-wide outages to identify disproportionately stressed regions.\n",
    "\n",
    "**Formula:** $\\text{Region Stress Ratio} = \\frac{\\text{Total Outages (MW)}}{\\text{RTO Total Outages (MW)}} \\times 100$"
   ]
  },
  {
   "cell_type": "code",
   "execution_count": null,
   "metadata": {},
   "outputs": [],
   "source": [
    "data = create_region_stress_ratio(data)"
   ]
  },
  {
   "cell_type": "markdown",
   "metadata": {},
   "source": [
    "### 3.3.3 Emergency Trigger\n",
    "\n",
    "**Emergency Triggered:** This feature flags when the current demand exceeds the optimal limit (Economic Max).\n",
    "\n",
    "**Formula:** $\\text{Emergency Triggered} = \\text{Total Committed} \\gt \\text{Economic Max}$"
   ]
  },
  {
   "cell_type": "code",
   "execution_count": null,
   "metadata": {},
   "outputs": [],
   "source": [
    "data = create_emergency_triggered(data)"
   ]
  },
  {
   "cell_type": "markdown",
   "metadata": {},
   "source": [
    "### 3.3.4 Near Emergency Threshold\n",
    "\n",
    "**Near Emergency Threshold:** This feature is meant to signal an early warning for grid stress before reaching full capacity under normal operating conditions. The threshold here is set at 95% of the Economic Max.\n",
    "\n",
    "**Formula:** $\\text{Near Emergency Threshold} = \\text{Total Committed} \\gt 0.95 \\times \\text{Economic Max}$"
   ]
  },
  {
   "cell_type": "code",
   "execution_count": null,
   "metadata": {},
   "outputs": [],
   "source": [
    "data = create_near_emergency(data)"
   ]
  },
  {
   "cell_type": "markdown",
   "metadata": {},
   "source": [
    "## Output Data"
   ]
  },
  {
   "cell_type": "code",
   "execution_count": null,
   "metadata": {},
   "outputs": [],
   "source": [
    "data.to_parquet(f\"{dataframe_file_path}{output_file_name}.parquet\", index=False, engine=\"pyarrow\")"
   ]
  },
  {
   "cell_type": "markdown",
   "metadata": {},
   "source": [
    "---\n",
    "# 4.0 EDA"
   ]
  },
  {
   "cell_type": "code",
   "execution_count": 3,
   "metadata": {},
   "outputs": [],
   "source": [
    "data = pd.read_parquet(f\"{dataframe_file_path}{output_file_name}.parquet\", engine=\"pyarrow\")"
   ]
  },
  {
   "cell_type": "markdown",
   "metadata": {},
   "source": [
    "# 4.1 Check for Missing Data\n",
    "\n",
    "This should not be an issue, as this issue has been dealt with at every step in the data creation process. However, for the sake of completeness we will check."
   ]
  },
  {
   "cell_type": "code",
   "execution_count": 4,
   "metadata": {},
   "outputs": [
    {
     "name": "stdout",
     "output_type": "stream",
     "text": [
      "Columns with Missing Values:\n",
      " Series([], dtype: int64)\n"
     ]
    }
   ],
   "source": [
    "missing_data = data.isnull().sum()\n",
    "missing_columns = missing_data[missing_data > 0]\n",
    "print(\"Columns with Missing Values:\\n\", missing_columns)"
   ]
  },
  {
   "cell_type": "markdown",
   "metadata": {},
   "source": [
    "# 4.2 Feature Exploration "
   ]
  },
  {
   "cell_type": "markdown",
   "metadata": {},
   "source": [
    "## 4.2.1 LMP Delta\n",
    "\n",
    "*Note:* This feature has hourly granularity and is region specific.\n",
    "\n"
   ]
  },
  {
   "cell_type": "markdown",
   "metadata": {},
   "source": [
    "Let check for extreme values or unexpected trends."
   ]
  },
  {
   "cell_type": "code",
   "execution_count": 5,
   "metadata": {},
   "outputs": [
    {
     "data": {
      "application/vnd.jupyter.widget-view+json": {
       "model_id": "33f53aaf8cc64a3daa8ff90abbd5dc68",
       "version_major": 2,
       "version_minor": 0
      },
      "text/plain": [
       "HBox(children=(VBox(children=(Dropdown(description='Season:', options=('All', 'Spring & Fall', 'Summer', 'Wint…"
      ]
     },
     "metadata": {},
     "output_type": "display_data"
    },
    {
     "data": {
      "application/vnd.jupyter.widget-view+json": {
       "model_id": "548a378b9e5346cdbb0e3eb48fb88142",
       "version_major": 2,
       "version_minor": 0
      },
      "text/plain": [
       "Output()"
      ]
     },
     "metadata": {},
     "output_type": "display_data"
    }
   ],
   "source": [
    "plot_interactive_histogram(data=data, feature=\"lmp_delta\", feature_units=\"($/MWh)\", bins=100)"
   ]
  },
  {
   "cell_type": "markdown",
   "metadata": {},
   "source": [
    "The distribution shows most price changes are near zero but there are some extreme outliers."
   ]
  },
  {
   "cell_type": "code",
   "execution_count": 6,
   "metadata": {},
   "outputs": [
    {
     "data": {
      "application/vnd.jupyter.widget-view+json": {
       "model_id": "da5419daa31c41bf9f5fb6b6476a8a69",
       "version_major": 2,
       "version_minor": 0
      },
      "text/plain": [
       "HBox(children=(VBox(children=(Dropdown(description='Season:', options=('All', 'Spring & Fall', 'Summer', 'Wint…"
      ]
     },
     "metadata": {},
     "output_type": "display_data"
    },
    {
     "data": {
      "application/vnd.jupyter.widget-view+json": {
       "model_id": "4f233f70a3b44851a6b9c57fb8daa3fc",
       "version_major": 2,
       "version_minor": 0
      },
      "text/plain": [
       "Output()"
      ]
     },
     "metadata": {},
     "output_type": "display_data"
    }
   ],
   "source": [
    "plot_interactive_boxplot(data=data, feature=\"lmp_delta\", feature_units=\"($/MWh)\")"
   ]
  },
  {
   "cell_type": "markdown",
   "metadata": {},
   "source": [
    "Reducing the lower and upper outlier threshold too $\\pm$ 200, the distribution across regions appear similar, but the significant outliers may be an indication of localized price volatility."
   ]
  },
  {
   "cell_type": "code",
   "execution_count": 7,
   "metadata": {},
   "outputs": [
    {
     "data": {
      "application/vnd.jupyter.widget-view+json": {
       "model_id": "a45d554194a94dfc805783f1a4b963e5",
       "version_major": 2,
       "version_minor": 0
      },
      "text/plain": [
       "HBox(children=(Dropdown(description='Region:', options=('All', 'Mid Atlantic - Dominion', 'Western'), value='A…"
      ]
     },
     "metadata": {},
     "output_type": "display_data"
    },
    {
     "data": {
      "application/vnd.jupyter.widget-view+json": {
       "model_id": "dff93676b1eb4fb696bdb2d94a3929b7",
       "version_major": 2,
       "version_minor": 0
      },
      "text/plain": [
       "Output()"
      ]
     },
     "metadata": {},
     "output_type": "display_data"
    }
   ],
   "source": [
    "plot_interactive_timeseries(data=data, feature=\"lmp_delta\", feature_units=\"($/MWh)\")"
   ]
  },
  {
   "cell_type": "markdown",
   "metadata": {},
   "source": [
    "The \"Mid Atlantic - Dominion\" Region may have frequent outliers on an hourly basis, signaling that specific nodes or congestion points are potentially influencing prices there.\n",
    "\n",
    "Let's further investigate the outliers using IQR."
   ]
  },
  {
   "cell_type": "code",
   "execution_count": 8,
   "metadata": {},
   "outputs": [
    {
     "data": {
      "application/vnd.jupyter.widget-view+json": {
       "model_id": "138cbd7fa11d4023b06a811e6da0c351",
       "version_major": 2,
       "version_minor": 0
      },
      "text/plain": [
       "VBox(children=(HBox(children=(Dropdown(description='Region:', options=('All', 'Mid Atlantic - Dominion', 'West…"
      ]
     },
     "metadata": {},
     "output_type": "display_data"
    },
    {
     "data": {
      "application/vnd.jupyter.widget-view+json": {
       "model_id": "b8cecb15b8e741179fdfa8a8fb73fa2a",
       "version_major": 2,
       "version_minor": 0
      },
      "text/plain": [
       "Output()"
      ]
     },
     "metadata": {},
     "output_type": "display_data"
    }
   ],
   "source": [
    "plot_interactive_timeseries_scatter_outliers(data=data, feature=\"lmp_delta\", feature_units=\"($/MWh)\")"
   ]
  },
  {
   "cell_type": "markdown",
   "metadata": {},
   "source": [
    "It is not surprising the Winter months exhibit LMP Delta outliers. This data can be useful with say fuel prices. For example, if fuel price data was available, one can determine if Winter 2021 could be associated with extreme weather or fuel price spikes.\n",
    "\n",
    "In the Western region, the top 10 pricing nodes with absolute hourly changes in LMP over $100 /MWh:"
   ]
  },
  {
   "cell_type": "code",
   "execution_count": 9,
   "metadata": {},
   "outputs": [
    {
     "data": {
      "application/vnd.jupyter.widget-view+json": {
       "model_id": "d5b6928540a041a69622ded0850f3638",
       "version_major": 2,
       "version_minor": 0
      },
      "text/plain": [
       "HBox(children=(VBox(children=(Dropdown(description='Region:', options=('All', 'Mid Atlantic - Dominion', 'West…"
      ]
     },
     "metadata": {},
     "output_type": "display_data"
    }
   ],
   "source": [
    "interactive_pnode_lmp_outliers(data=data, lmp_feature=\"lmp_delta\")"
   ]
  },
  {
   "cell_type": "markdown",
   "metadata": {},
   "source": [
    "## 4.2.2 LMP Volatility\n",
    "\n",
    "*Note:* This feature has hourly granularity and is region specific."
   ]
  },
  {
   "cell_type": "markdown",
   "metadata": {},
   "source": [
    "Let check for extreme values or unexpected trends."
   ]
  },
  {
   "cell_type": "code",
   "execution_count": 10,
   "metadata": {},
   "outputs": [
    {
     "data": {
      "application/vnd.jupyter.widget-view+json": {
       "model_id": "90268493559a422ca7b36665108907ff",
       "version_major": 2,
       "version_minor": 0
      },
      "text/plain": [
       "HBox(children=(VBox(children=(Dropdown(description='Season:', options=('All', 'Spring & Fall', 'Summer', 'Wint…"
      ]
     },
     "metadata": {},
     "output_type": "display_data"
    },
    {
     "data": {
      "application/vnd.jupyter.widget-view+json": {
       "model_id": "dd77b5fd1edd46b6b785a8bfa8659e53",
       "version_major": 2,
       "version_minor": 0
      },
      "text/plain": [
       "Output()"
      ]
     },
     "metadata": {},
     "output_type": "display_data"
    }
   ],
   "source": [
    "plot_interactive_histogram(data=data, feature=\"lmp_volatility\", feature_units=\"($/MWh)\", bins=250)"
   ]
  },
  {
   "cell_type": "markdown",
   "metadata": {},
   "source": [
    "The distribution of LMP volatility is right-skewed, with most values concentrated near zero. This suggests that price swings are typically minor, but extreme events do occur and are rare."
   ]
  },
  {
   "cell_type": "code",
   "execution_count": 11,
   "metadata": {},
   "outputs": [
    {
     "data": {
      "application/vnd.jupyter.widget-view+json": {
       "model_id": "4c7242cc1329430daf907a1bfb2726df",
       "version_major": 2,
       "version_minor": 0
      },
      "text/plain": [
       "HBox(children=(VBox(children=(Dropdown(description='Season:', options=('All', 'Spring & Fall', 'Summer', 'Wint…"
      ]
     },
     "metadata": {},
     "output_type": "display_data"
    },
    {
     "data": {
      "application/vnd.jupyter.widget-view+json": {
       "model_id": "71860df631b047a8887cdd07d8a563b4",
       "version_major": 2,
       "version_minor": 0
      },
      "text/plain": [
       "Output()"
      ]
     },
     "metadata": {},
     "output_type": "display_data"
    }
   ],
   "source": [
    "plot_interactive_boxplot(data=data, feature=\"lmp_volatility\", feature_units=\"($/MWh)\")"
   ]
  },
  {
   "cell_type": "markdown",
   "metadata": {},
   "source": [
    "The data shows high volatility outliers in the \"Mid Atlantic - Dominion: region compared to \"Western\". With a $50/MWh upper threshold applied, \"Mid Atlantic - Dominion\" stills has a broader range of volatility compared to \"Western\", and with both regions having their volatility concentrated below $10/MWh."
   ]
  },
  {
   "cell_type": "code",
   "execution_count": 12,
   "metadata": {},
   "outputs": [
    {
     "data": {
      "application/vnd.jupyter.widget-view+json": {
       "model_id": "a109d7d823f746f082ea1448dab6aa43",
       "version_major": 2,
       "version_minor": 0
      },
      "text/plain": [
       "VBox(children=(Dropdown(description='Region:', options=('All', 'Mid Atlantic - Dominion', 'Western'), value='A…"
      ]
     },
     "metadata": {},
     "output_type": "display_data"
    },
    {
     "data": {
      "application/vnd.jupyter.widget-view+json": {
       "model_id": "2e34f25f8059451e9ab5fac064928b7f",
       "version_major": 2,
       "version_minor": 0
      },
      "text/plain": [
       "Output()"
      ]
     },
     "metadata": {},
     "output_type": "display_data"
    }
   ],
   "source": [
    "plot_interactive_rolling_timeseries(data=data, feature=\"lmp_volatility\", feature_units=\"($/MWh)\")"
   ]
  },
  {
   "cell_type": "markdown",
   "metadata": {},
   "source": [
    "\"Mid Atlantic - Dominion\" exhibits consistently higher volatility spikes compared to the \"Western\" region, with pronounced peaks around early 2021, early 2023, and early 2024. The \"Western\" region displays a generally stable volatility range, but smaller, less frequent spikes occur around similar timeframes. Both regions show periods of elevated volatility during winter months, which aligns with seasonal factors like increased heating demand and weather-related disruptions."
   ]
  },
  {
   "cell_type": "markdown",
   "metadata": {},
   "source": [
    "## 4.2.3 Forced Outage Percentage\n",
    "\n",
    "*Note:* This feature has daily granularity and is region specific."
   ]
  },
  {
   "cell_type": "code",
   "execution_count": 13,
   "metadata": {},
   "outputs": [],
   "source": [
    "forced_out_pct_data = handle_forced_outage_pct_data(df=data)"
   ]
  },
  {
   "cell_type": "markdown",
   "metadata": {},
   "source": [
    "Verify whether the percentage values are within a reasonable range and see how forced outages vary across regions and time."
   ]
  },
  {
   "cell_type": "code",
   "execution_count": 14,
   "metadata": {},
   "outputs": [
    {
     "data": {
      "application/vnd.jupyter.widget-view+json": {
       "model_id": "439a7d6ea60f4d61a8adbb6cb04e4605",
       "version_major": 2,
       "version_minor": 0
      },
      "text/plain": [
       "HBox(children=(Dropdown(description='Region:', options=('All', 'Mid Atlantic - Dominion', 'PJM RTO', 'Western'…"
      ]
     },
     "metadata": {},
     "output_type": "display_data"
    },
    {
     "data": {
      "application/vnd.jupyter.widget-view+json": {
       "model_id": "eb62a62fe91046f989466624f5fe1f72",
       "version_major": 2,
       "version_minor": 0
      },
      "text/plain": [
       "Output()"
      ]
     },
     "metadata": {},
     "output_type": "display_data"
    }
   ],
   "source": [
    "plot_interactive_timeseries(data=forced_out_pct_data, feature=\"forced_outage_pct\", feature_units=\"(%)\")"
   ]
  },
  {
   "cell_type": "markdown",
   "metadata": {},
   "source": [
    "This plot effectively shows the trend of forced outages across the two regions and the whole PJM RTO. Lets take a look at a 14-day rolled average."
   ]
  },
  {
   "cell_type": "code",
   "execution_count": 15,
   "metadata": {},
   "outputs": [
    {
     "data": {
      "application/vnd.jupyter.widget-view+json": {
       "model_id": "ccdc31dac17842e8bd6c94f69f158822",
       "version_major": 2,
       "version_minor": 0
      },
      "text/plain": [
       "VBox(children=(Dropdown(description='Region:', options=('All', 'Mid Atlantic - Dominion', 'PJM RTO', 'Western'…"
      ]
     },
     "metadata": {},
     "output_type": "display_data"
    },
    {
     "data": {
      "application/vnd.jupyter.widget-view+json": {
       "model_id": "c8988f33d4dc4a93b011b3176f1f17b0",
       "version_major": 2,
       "version_minor": 0
      },
      "text/plain": [
       "Output()"
      ]
     },
     "metadata": {},
     "output_type": "display_data"
    }
   ],
   "source": [
    "plot_interactive_rolling_timeseries(data=forced_out_pct_data, feature=\"forced_outage_pct\", feature_units=\"(%)\", hourly_roll=False)"
   ]
  },
  {
   "cell_type": "markdown",
   "metadata": {},
   "source": [
    "The rolling windows provided a smoother view of how forced outages are behaving in each region over time (ie. Seasonal patterns are clearly visible). This could be potentially useful in understanding underperforming or overperforming during critical periods."
   ]
  },
  {
   "cell_type": "code",
   "execution_count": 16,
   "metadata": {},
   "outputs": [
    {
     "data": {
      "application/vnd.jupyter.widget-view+json": {
       "model_id": "9bf5971efecb4e33a96b0fad27c9e659",
       "version_major": 2,
       "version_minor": 0
      },
      "text/plain": [
       "HBox(children=(VBox(children=(Dropdown(description='Season:', options=('All', 'Spring & Fall', 'Summer', 'Wint…"
      ]
     },
     "metadata": {},
     "output_type": "display_data"
    },
    {
     "data": {
      "application/vnd.jupyter.widget-view+json": {
       "model_id": "fc81b4861a45433ca1c1c8ba86925027",
       "version_major": 2,
       "version_minor": 0
      },
      "text/plain": [
       "Output()"
      ]
     },
     "metadata": {},
     "output_type": "display_data"
    }
   ],
   "source": [
    "plot_interactive_boxplot(data=forced_out_pct_data, feature=\"forced_outage_pct\", feature_units=\"(%)\")"
   ]
  },
  {
   "cell_type": "markdown",
   "metadata": {},
   "source": [
    "The regional distribution is well-represented. You can see that \"Western\" has a wider spread and slightly higher median compared to \"Mid Atlantic - Dominion.\""
   ]
  },
  {
   "cell_type": "code",
   "execution_count": 17,
   "metadata": {},
   "outputs": [
    {
     "data": {
      "application/vnd.jupyter.widget-view+json": {
       "model_id": "4d44445b75114b48bf75dd9811c007ee",
       "version_major": 2,
       "version_minor": 0
      },
      "text/plain": [
       "HBox(children=(Dropdown(description='Season:', options=('All', 'Spring & Fall', 'Summer', 'Winter'), value='Al…"
      ]
     },
     "metadata": {},
     "output_type": "display_data"
    },
    {
     "data": {
      "application/vnd.jupyter.widget-view+json": {
       "model_id": "5532981b487c4fcbb9c5ee7aa2a71697",
       "version_major": 2,
       "version_minor": 0
      },
      "text/plain": [
       "Output()"
      ]
     },
     "metadata": {},
     "output_type": "display_data"
    }
   ],
   "source": [
    "plot_interactive_calendar_heatmap(data=forced_out_pct_data, feature=\"forced_outage_pct\", feature_units=\"(%)\")"
   ]
  },
  {
   "cell_type": "markdown",
   "metadata": {},
   "source": [
    "The calendar heatmmap serves a system-wide visualization that focuses on all regions combined. This is best for spotting overall trends, seasonality, and anomalies at a glance. Furthermore, the region filter allows this data to be seperate to a regional level to better understand regional specific events."
   ]
  },
  {
   "cell_type": "markdown",
   "metadata": {},
   "source": [
    "## 4.2.4 Outage Intensity\n",
    "\n",
    "*Note:* This feature has daily granularity and is region specific."
   ]
  },
  {
   "cell_type": "code",
   "execution_count": 18,
   "metadata": {},
   "outputs": [],
   "source": [
    "outage_intensity_data = handle_outage_intensity_data(data)"
   ]
  },
  {
   "cell_type": "markdown",
   "metadata": {},
   "source": [
    "Analyze whether the percentage values are within a reasonable range and see how forced outages vary across regions and time."
   ]
  },
  {
   "cell_type": "code",
   "execution_count": 19,
   "metadata": {},
   "outputs": [
    {
     "data": {
      "application/vnd.jupyter.widget-view+json": {
       "model_id": "1cd15bbdf4094df08492a8d6180b0fae",
       "version_major": 2,
       "version_minor": 0
      },
      "text/plain": [
       "HBox(children=(Dropdown(description='Region:', options=('All', 'Mid Atlantic - Dominion', 'Western'), value='A…"
      ]
     },
     "metadata": {},
     "output_type": "display_data"
    },
    {
     "data": {
      "application/vnd.jupyter.widget-view+json": {
       "model_id": "d193d40b569f418cbdb266d7068752cb",
       "version_major": 2,
       "version_minor": 0
      },
      "text/plain": [
       "Output()"
      ]
     },
     "metadata": {},
     "output_type": "display_data"
    }
   ],
   "source": [
    "plot_interactive_timeseries(data=outage_intensity_data, feature=\"outage_intensity\", feature_units=\"(%)\")"
   ]
  },
  {
   "cell_type": "markdown",
   "metadata": {},
   "source": [
    "The outage intensity shows a cyclical pattern, with peaks in the fall and spring periods. It is observed that lower outage intensity occur during summer and winter periods aligning with periods of higher energy demand (Ex. heating and cooling seasons). This seems to be a result of strategic planning by grid operators to ensure grid reliability during periods of high electricity demand."
   ]
  },
  {
   "cell_type": "code",
   "execution_count": 20,
   "metadata": {},
   "outputs": [
    {
     "data": {
      "application/vnd.jupyter.widget-view+json": {
       "model_id": "f6ee4a42a71549fc897b52c15340fc97",
       "version_major": 2,
       "version_minor": 0
      },
      "text/plain": [
       "HBox(children=(VBox(children=(Dropdown(description='Season:', options=('All', 'Spring & Fall', 'Summer', 'Wint…"
      ]
     },
     "metadata": {},
     "output_type": "display_data"
    },
    {
     "data": {
      "application/vnd.jupyter.widget-view+json": {
       "model_id": "cd7005b169094e719a1b3bd571d46101",
       "version_major": 2,
       "version_minor": 0
      },
      "text/plain": [
       "Output()"
      ]
     },
     "metadata": {},
     "output_type": "display_data"
    }
   ],
   "source": [
    "plot_interactive_boxplot(data=outage_intensity_data, feature=\"outage_intensity\", feature_units=\"(%)\")"
   ]
  },
  {
   "cell_type": "markdown",
   "metadata": {},
   "source": [
    "Overall, it appears both regions display a similar distribution pattern. This suggests that outage intensities might be driven by common underlying factors across regions, such as weather or grid stress."
   ]
  },
  {
   "cell_type": "markdown",
   "metadata": {},
   "source": [
    "## 4.2.5 Capacity Margin\n",
    "\n",
    "*Note:* This feature has hourly granularity but is NOT region specific."
   ]
  },
  {
   "cell_type": "code",
   "execution_count": 21,
   "metadata": {},
   "outputs": [],
   "source": [
    "capacity_margin_data = handle_capacity_margin_data(data)"
   ]
  },
  {
   "cell_type": "markdown",
   "metadata": {},
   "source": [
    "Let's take a look at how capacity margin is distributed."
   ]
  },
  {
   "cell_type": "code",
   "execution_count": 22,
   "metadata": {},
   "outputs": [
    {
     "data": {
      "application/vnd.jupyter.widget-view+json": {
       "model_id": "e97847b6a2ef403cac89f536967b993f",
       "version_major": 2,
       "version_minor": 0
      },
      "text/plain": [
       "HBox(children=(VBox(children=(Dropdown(description='Season:', options=('All', 'Spring & Fall', 'Summer', 'Wint…"
      ]
     },
     "metadata": {},
     "output_type": "display_data"
    },
    {
     "data": {
      "application/vnd.jupyter.widget-view+json": {
       "model_id": "fdba23605ef84ad89587afcd056ff868",
       "version_major": 2,
       "version_minor": 0
      },
      "text/plain": [
       "Output()"
      ]
     },
     "metadata": {},
     "output_type": "display_data"
    }
   ],
   "source": [
    "plot_interactive_histogram(data=capacity_margin_data, feature=\"capacity_margin\", feature_units=\"(%)\", region_filter=False)"
   ]
  },
  {
   "cell_type": "markdown",
   "metadata": {},
   "source": [
    "The distribution appears left-skewed with high frequency near zero and extreme negative margins. The long left tail (the negative values) could reflect rare but critical situations where demand far exceed available supply, creating potential grid instability.\n",
    "\n",
    "Over time:"
   ]
  },
  {
   "cell_type": "code",
   "execution_count": 23,
   "metadata": {},
   "outputs": [
    {
     "data": {
      "application/vnd.jupyter.widget-view+json": {
       "model_id": "5cf2a02ad3334749b15b7c560c17f1f9",
       "version_major": 2,
       "version_minor": 0
      },
      "text/plain": [
       "HBox(children=(Checkbox(value=True, description='Add Seasonal Bands'), HBox(children=(Text(value='2020-07-01',…"
      ]
     },
     "metadata": {},
     "output_type": "display_data"
    },
    {
     "data": {
      "application/vnd.jupyter.widget-view+json": {
       "model_id": "ff5f9ec43104461084ac285cf428e5d9",
       "version_major": 2,
       "version_minor": 0
      },
      "text/plain": [
       "Output()"
      ]
     },
     "metadata": {},
     "output_type": "display_data"
    }
   ],
   "source": [
    "plot_interactive_timeseries(data=capacity_margin_data, feature=\"capacity_margin\", feature_units=\"(%)\", region_filter=False)"
   ]
  },
  {
   "cell_type": "code",
   "execution_count": 24,
   "metadata": {},
   "outputs": [
    {
     "data": {
      "application/vnd.jupyter.widget-view+json": {
       "model_id": "8a64fb73e3fa45d9877c1110d4a000c6",
       "version_major": 2,
       "version_minor": 0
      },
      "text/plain": [
       "HBox(children=(VBox(children=(Dropdown(description='Season:', options=('All', 'Spring & Fall', 'Summer', 'Wint…"
      ]
     },
     "metadata": {},
     "output_type": "display_data"
    },
    {
     "data": {
      "application/vnd.jupyter.widget-view+json": {
       "model_id": "0b91cf779d5146aaa102ee51462ab485",
       "version_major": 2,
       "version_minor": 0
      },
      "text/plain": [
       "Output()"
      ]
     },
     "metadata": {},
     "output_type": "display_data"
    }
   ],
   "source": [
    "plot_interactive_boxplot(data=capacity_margin_data, feature=\"capacity_margin\", feature_units=\"(%)\", region_filter=False)"
   ]
  },
  {
   "cell_type": "markdown",
   "metadata": {},
   "source": [
    "Capacity Margin fluctuates consistently around 0%, with occasional dips into strongly negative territory. There does not appear to be a strong upward or downward trend in the overall capacity margin over time. The Winter months (December, January, February) show a tendency for higher variability in capacity margin, with sharp drops observed during some periods. This could correspond to increased stress on the grid during colder months due to heating demand. The Summer months (June, July, August) show less dramatic variability but still exhibit dips, likely due to cooling demand (air conditioning).\n",
    "\n",
    "Let's consider if there is any relationships between Outage Intensity and Capacity Margin. This could provide meaningful insights because it explores how the available capacity buffer (margin) influences or correlates with the system's outage levels.\n",
    "\n",
    "From a market perspective, if capacity margins consistently correlate with higher outage intensity, it may reflect underlying issues in system planning or operational flexibility, influencing market pricing (ex. LMP volatility)."
   ]
  },
  {
   "cell_type": "code",
   "execution_count": 25,
   "metadata": {},
   "outputs": [
    {
     "data": {
      "application/vnd.jupyter.widget-view+json": {
       "model_id": "7f0a5a3906dc4e5b826d17c18b7608b6",
       "version_major": 2,
       "version_minor": 0
      },
      "text/plain": [
       "HBox(children=(Dropdown(description='Season:', options=('All', 'Spring & Fall', 'Summer', 'Winter'), value='Al…"
      ]
     },
     "metadata": {},
     "output_type": "display_data"
    },
    {
     "data": {
      "application/vnd.jupyter.widget-view+json": {
       "model_id": "a2d512974ff745c1ae9dc95a6fc0312a",
       "version_major": 2,
       "version_minor": 0
      },
      "text/plain": [
       "Output()"
      ]
     },
     "metadata": {},
     "output_type": "display_data"
    }
   ],
   "source": [
    "cm_oi_df = handle_capacity_margin_outage_intensity_data(data)\n",
    "plot_interactive_scatter_two_features(data=cm_oi_df, feature_x=\"daily_capacity_margin\", feature_y=\"daily_outage_intensity\", x_units=\"(%)\", y_units=\"(%)\", region_filter=False, add_best_fit=True)"
   ]
  },
  {
   "cell_type": "markdown",
   "metadata": {},
   "source": [
    "There is a clear negative linear relationship between capacity margin and outage intensity. As capacity margin increases (indicating more generation capacity is available), outage intensity decreases. This is expected as systems with more capacity buffer are less prone to stress."
   ]
  },
  {
   "cell_type": "markdown",
   "metadata": {},
   "source": [
    "## 4.2.6 Region Stress Ratio\n",
    "\n",
    "*Note:* This feature has daily granularity and is region specific."
   ]
  },
  {
   "cell_type": "code",
   "execution_count": 26,
   "metadata": {},
   "outputs": [],
   "source": [
    "rsr_data = handle_region_stress_ratio_data(df=data)"
   ]
  },
  {
   "cell_type": "markdown",
   "metadata": {},
   "source": [
    "Evaluate Regional Stress Ratio over time, to pinpoint regions disproportionately stressed compared to the overall grid."
   ]
  },
  {
   "cell_type": "code",
   "execution_count": 27,
   "metadata": {},
   "outputs": [
    {
     "data": {
      "application/vnd.jupyter.widget-view+json": {
       "model_id": "673c515df2314f228d1a48062d0d8e98",
       "version_major": 2,
       "version_minor": 0
      },
      "text/plain": [
       "HBox(children=(Dropdown(description='Region:', options=('All', 'Mid Atlantic - Dominion', 'Western'), value='A…"
      ]
     },
     "metadata": {},
     "output_type": "display_data"
    },
    {
     "data": {
      "application/vnd.jupyter.widget-view+json": {
       "model_id": "0fec82f055634b26b35e69c0201311a9",
       "version_major": 2,
       "version_minor": 0
      },
      "text/plain": [
       "Output()"
      ]
     },
     "metadata": {},
     "output_type": "display_data"
    }
   ],
   "source": [
    "plot_interactive_timeseries(data=rsr_data, feature=\"region_stress_ratio\", feature_units=\"(%)\")"
   ]
  },
  {
   "cell_type": "markdown",
   "metadata": {},
   "source": [
    "Note: Total outages (MW), which region stress ratio is derived from, is the expected outages for the current day project at the start of that day. \n",
    "\n",
    "From the plot, the observed mirror effect is evident but can be explained by the fact that there are only two regions (Western and Mid-Atlantic Dominion) in the dataset and the total RTO outages is a fixed amount. Thus the stress ratios for individual regions are interdependent."
   ]
  },
  {
   "cell_type": "code",
   "execution_count": 28,
   "metadata": {},
   "outputs": [
    {
     "data": {
      "application/vnd.jupyter.widget-view+json": {
       "model_id": "11c7879f9ca841f1b350a1f241f9409f",
       "version_major": 2,
       "version_minor": 0
      },
      "text/plain": [
       "HBox(children=(Dropdown(description='Region:', options=('All', 'Mid Atlantic - Dominion', 'Western'), value='A…"
      ]
     },
     "metadata": {},
     "output_type": "display_data"
    },
    {
     "data": {
      "application/vnd.jupyter.widget-view+json": {
       "model_id": "1edb93041cf54aac8d8a0457d869fa84",
       "version_major": 2,
       "version_minor": 0
      },
      "text/plain": [
       "Output()"
      ]
     },
     "metadata": {},
     "output_type": "display_data"
    }
   ],
   "source": [
    "lmp_sr_df = handle_region_stress_ratio_lmp_vol_data(df=data)\n",
    "plot_interactive_scatter_two_features(data=lmp_sr_df, feature_x=\"daily_region_stress_ratio\", feature_y=\"daily_lmp_volatility\", x_units=\"(%)\", y_units=\"($/MWh)\")"
   ]
  },
  {
   "cell_type": "markdown",
   "metadata": {},
   "source": [
    "Surprisely, there seems a lack of a clear trend or slope indicates that higher or lower RSR values do not strongly correlate with daily LMP volatility. Most LMP volatility values are below $4/MWh, regardless of the RSR value. This clustering suggests that most of the market operates under stable conditions even as regional stress varies. There are outliers with very high volatility (up to $16/MWh), but these are rare and not systematically linked to RSR increases. Potentially, RSR reflects longer-term system stress, while LMP volatility responds to immediate market pressures, explain the weak correlation. Moreover, the grid is likely to have the flexibility in other regions to absorb local outages, resulting in low impact on LMP volatility.\n",
    "\n",
    "Next, let's explore the relationship between region stress ratio and capacity margin. This could help explain how system-wide stress interacts with system resilience which is essential for identifying grid vulnerabilities in different seasons and predictions of potential emergencies when stress ratios rise and capacity margin falls. As both features have different levels of granularity, with region stress ratio having daily granularity with region specific data and capacity margin having hourly granularity with no region specific data, the data for both feature are values averaged across all regions for each day. Although the regional granularity is lost due to averaging, this relationship could still provide keys insights into grid performances."
   ]
  },
  {
   "cell_type": "code",
   "execution_count": 29,
   "metadata": {},
   "outputs": [
    {
     "data": {
      "application/vnd.jupyter.widget-view+json": {
       "model_id": "a60bf9e2eb574b1bbe60fe4b5f6c8cb5",
       "version_major": 2,
       "version_minor": 0
      },
      "text/plain": [
       "HBox(children=(Dropdown(description='Season:', options=('All', 'Spring & Fall', 'Summer', 'Winter'), value='Al…"
      ]
     },
     "metadata": {},
     "output_type": "display_data"
    },
    {
     "data": {
      "application/vnd.jupyter.widget-view+json": {
       "model_id": "020079c90e11498196fbd57afc6a223e",
       "version_major": 2,
       "version_minor": 0
      },
      "text/plain": [
       "Output()"
      ]
     },
     "metadata": {},
     "output_type": "display_data"
    }
   ],
   "source": [
    "cm_sr_df = handle_region_stress_ratio_capacity_margin_data(df=data)\n",
    "plot_interactive_scatter_two_features(data=cm_sr_df, feature_x=\"daily_region_stress_ratio\", feature_y=\"daily_capacity_margin\", x_units=\"(%)\", y_units=\"(%)\", region_filter=False)"
   ]
  },
  {
   "cell_type": "markdown",
   "metadata": {},
   "source": [
    "Across all seasons, although the data is quite dispersed, there is a negative trend indicating higher region stress ratios are associated with lower capacity margins. Summer shows more consistent and higher stress ratios, while winter has a broader range of capacity margins, highlighting seasonal differences. Lastly, Spring & Fall are transitional, with less extreme conditions overall.\n",
    "\n",
    "Lastly, let's explore the relationship between region stress ratio and outage intensity. Outage Intensity reflects grid reliability, while Region Stress Ratio measures the strain or utilization of the grid. Similar to the analysis above, as outage intensity data is daily granular with no region specific data, region stress ratio data is again averaged across all regions for each day. Although regional granularity is lost, understanding this relationship could help quantify outage probabilities by season or stress intensity."
   ]
  },
  {
   "cell_type": "code",
   "execution_count": 30,
   "metadata": {},
   "outputs": [
    {
     "data": {
      "application/vnd.jupyter.widget-view+json": {
       "model_id": "1a3e7b9dedff444fbd53bf6155b7a8bc",
       "version_major": 2,
       "version_minor": 0
      },
      "text/plain": [
       "HBox(children=(Dropdown(description='Season:', options=('All', 'Spring & Fall', 'Summer', 'Winter'), value='Al…"
      ]
     },
     "metadata": {},
     "output_type": "display_data"
    },
    {
     "data": {
      "application/vnd.jupyter.widget-view+json": {
       "model_id": "9d7c15c673e94523853dc5f20b075edc",
       "version_major": 2,
       "version_minor": 0
      },
      "text/plain": [
       "Output()"
      ]
     },
     "metadata": {},
     "output_type": "display_data"
    }
   ],
   "source": [
    "oi_sr_df = handle_region_stress_ratio_outage_intensity_data(df=data)\n",
    "plot_interactive_scatter_two_features(data=oi_sr_df, feature_x=\"daily_region_stress_ratio\", feature_y=\"daily_outage_intensity\", x_units=\"(%)\", y_units=\"(%)\", region_filter=False)"
   ]
  },
  {
   "cell_type": "markdown",
   "metadata": {},
   "source": [
    "When examining the scatterplot across all seasons, we observe a positive correlation between the daily region stress ratio and daily outage intensity. The overall trendline suggests that as grid stress increases, outage intensity also rises, although the variability in this relationship differs across seasons.\n",
    "\n",
    "In spring and fall, the points are more tightly clustered, reflecting less volatility in the relationship between stress ratio and outage intensity. This likely corresponds to stable grid operations during these transitional periods when demand is moderate and predictable.\n",
    "\n",
    "In winter, the trendline appears steeper, indicating a more pronounced relationship between stress ratio and outage intensity. This is likely driven by the increased grid stress caused by extreme cold weather and peak heating demand, which may heighten the risk of outages.\n",
    "\n",
    "Summer also shows a positive correlation, but with slightly more spread compared to winter. This could reflect the variability introduced by extreme heat, air-conditioning loads, and occasional severe weather events like storms.\n",
    "\n",
    "Overall, winter and summer emerge as critical seasons for analyzing outage probabilities due to the higher grid stress and more pronounced trends, while spring and fall offer a baseline of stability in comparison."
   ]
  },
  {
   "cell_type": "markdown",
   "metadata": {},
   "source": [
    "## 4.2.7 Emergency Trigger & Near Emergency Trigger\n",
    "\n",
    "*Note:* Both features are hourly granularity but are NOT region specific."
   ]
  },
  {
   "cell_type": "code",
   "execution_count": 31,
   "metadata": {},
   "outputs": [],
   "source": [
    "trigger_data = handle_daily_gen_capacity_data(df=data)"
   ]
  },
  {
   "cell_type": "markdown",
   "metadata": {},
   "source": [
    "Let's evaluate these two binary indicators by season."
   ]
  },
  {
   "cell_type": "code",
   "execution_count": 32,
   "metadata": {},
   "outputs": [
    {
     "data": {
      "application/vnd.jupyter.widget-view+json": {
       "model_id": "b47aa2ffb9e2428a93a4591209b97f06",
       "version_major": 2,
       "version_minor": 0
      },
      "text/plain": [
       "HBox(children=(Dropdown(description='Season:', options=('All', 'Spring & Fall', 'Summer', 'Winter'), value='Al…"
      ]
     },
     "metadata": {},
     "output_type": "display_data"
    },
    {
     "data": {
      "application/vnd.jupyter.widget-view+json": {
       "model_id": "7ada45e4fc0c4c0c80a90a6355f15a25",
       "version_major": 2,
       "version_minor": 0
      },
      "text/plain": [
       "Output()"
      ]
     },
     "metadata": {},
     "output_type": "display_data"
    }
   ],
   "source": [
    "plot_interactive_feature_count_breakdown_by_season(data=trigger_data, features=[\"emergency_triggered\", \"near_emergency\"], region_filter=False)"
   ]
  },
  {
   "cell_type": "markdown",
   "metadata": {},
   "source": [
    "Most events fall under the \"Spring & Fall\" season, with relatively fewer in \"Summer\" and \"Winter\". Near-emergencies occur significantly more frequently than full emergencies in all seasons. Possible rationale: These are transitional periods where generation capacity may be temporarily offline for maintenance or upgrades. This can lead to more stress events."
   ]
  },
  {
   "cell_type": "code",
   "execution_count": 33,
   "metadata": {},
   "outputs": [
    {
     "data": {
      "application/vnd.jupyter.widget-view+json": {
       "model_id": "371676b1a9f04f62914f02ea270e6472",
       "version_major": 2,
       "version_minor": 0
      },
      "text/plain": [
       "VBox(children=(Dropdown(description='Frequency Aggregation:', options=('Monthly (M)', 'By Month (All Years Com…"
      ]
     },
     "metadata": {},
     "output_type": "display_data"
    },
    {
     "data": {
      "application/vnd.jupyter.widget-view+json": {
       "model_id": "bbf6b13d0a1040359f932e50e65292f7",
       "version_major": 2,
       "version_minor": 0
      },
      "text/plain": [
       "Output()"
      ]
     },
     "metadata": {},
     "output_type": "display_data"
    }
   ],
   "source": [
    "plot_interactive_frequency_timeseries(data=trigger_data, features=[\"emergency_triggered\", \"near_emergency\"], region_filter=False)"
   ]
  },
  {
   "cell_type": "markdown",
   "metadata": {},
   "source": [
    "By Monthly (M) aggregation, Near-Emergencies are more frequent than Emergency-Triggers, and both fluctuate seasonally. Full emergencies are rare but spike dramatically during a few months. Peaks align with higher grid stress periods, like extreme temperatures in summer (high cooling demand) and winter (high heating demand).\n",
    "\n",
    "By Hourly aggregation, Emergency-Triggers are more common during the early morning, while near-emergencies are relatively stable throughout the day but decline slightly in the late afternoon/evening. There seems to be morning ramp ups which may be directly related to demand surges as people wake up. After work hours, Near-Emergencies appear to slightly kick up as demand spikes again due to cooling/heating, cooking, and lighting."
   ]
  },
  {
   "cell_type": "markdown",
   "metadata": {},
   "source": [
    "## 4.2.8 Other Analysis\n",
    "\n",
    "Here we will look at some relationships between the raw data from PJM vs. the engineered features."
   ]
  },
  {
   "cell_type": "markdown",
   "metadata": {},
   "source": [
    "Let's evaluate the relationship between forced outages vs. capacity margin. This could help uncover the grid's vulnerability to disruptions and identify stress periods."
   ]
  },
  {
   "cell_type": "code",
   "execution_count": 34,
   "metadata": {},
   "outputs": [
    {
     "data": {
      "application/vnd.jupyter.widget-view+json": {
       "model_id": "eda644874aa04b82b3c85d2ab6d73a4d",
       "version_major": 2,
       "version_minor": 0
      },
      "text/plain": [
       "HBox(children=(Dropdown(description='Season:', options=('All', 'Spring & Fall', 'Summer', 'Winter'), value='Al…"
      ]
     },
     "metadata": {},
     "output_type": "display_data"
    },
    {
     "data": {
      "application/vnd.jupyter.widget-view+json": {
       "model_id": "5b755001f9844c83b1522f8c4616f406",
       "version_major": 2,
       "version_minor": 0
      },
      "text/plain": [
       "Output()"
      ]
     },
     "metadata": {},
     "output_type": "display_data"
    }
   ],
   "source": [
    "fo_cm_data = handle_forced_outages_capacity_margin_data(df=data)\n",
    "plot_interactive_scatter_two_features(data=fo_cm_data, feature_x=\"daily_capacity_margin\", feature_y=\"daily_forced_outages_mw\", x_units=\"(%)\", y_units=\"(MW)\", region_filter=False, add_best_fit=True)"
   ]
  },
  {
   "cell_type": "markdown",
   "metadata": {},
   "source": [
    "The scatter plots reveal varying relationships between capacity margin and forced outages MW across seasons. Summer shows a clear negative relationship, where lower capacity margins correspond to higher forced outages, likely due to peak demand and grid stress. Spring and fall display a mostly flat relationship, indicating stable conditions with minimal correlation. Winter exhibits a slightly positive trend, where higher capacity margins are associated with slightly higher forced outages, potentially reflecting challenges like extreme weather or maintenance issues. These seasonal differences highlight the importance of tailored grid management strategies for each period, especially in summer when the grid is under the most stress."
   ]
  },
  {
   "cell_type": "code",
   "execution_count": 35,
   "metadata": {},
   "outputs": [
    {
     "data": {
      "application/vnd.jupyter.widget-view+json": {
       "model_id": "37cdf36d608644d1a495abff5206be6f",
       "version_major": 2,
       "version_minor": 0
      },
      "text/plain": [
       "HBox(children=(Checkbox(value=True, description='Add Seasonal Bands'), HBox(children=(Text(value='2020-07-01',…"
      ]
     },
     "metadata": {},
     "output_type": "display_data"
    },
    {
     "data": {
      "application/vnd.jupyter.widget-view+json": {
       "model_id": "43a75663b7a04e759f16dce096332295",
       "version_major": 2,
       "version_minor": 0
      },
      "text/plain": [
       "Output()"
      ]
     },
     "metadata": {},
     "output_type": "display_data"
    }
   ],
   "source": [
    "plot_interactive_timeseries_two_features(data=fo_cm_data, feature1=\"daily_capacity_margin\", feature2=\"daily_forced_outages_mw\", feature1_units=\"(%)\", feature2_units=\"(MW)\", region_filter=False)"
   ]
  },
  {
   "cell_type": "markdown",
   "metadata": {},
   "source": [
    "The time series plot shows distinct seasonal patterns in daily capacity margin (blue) and daily forced outages MW (red). Capacity margin fluctuates cyclically, with peaks in summer and winter, reflecting increased demand during extreme weather periods, while valleys occur in milder spring and fall seasons. Forced outages are exhibit occasional sharp spikes, often coinciding with low capacity margins, particularly during winter. The seasonal bands further highlight these trends, emphasizing the inverse and volatile relationship between capacity margin and forced outages, especially during high-demand periods. This underscores the importance of seasonal planning for grid reliability.\n",
    "\n",
    "Let's evaluate the relationship between forced outages vs. LMP volatility. This is essential because LMP volatility reflects market stress and supply-demand imbalances, which may be driven by unexpected forced outages."
   ]
  },
  {
   "cell_type": "code",
   "execution_count": 36,
   "metadata": {},
   "outputs": [
    {
     "data": {
      "application/vnd.jupyter.widget-view+json": {
       "model_id": "73c716fed28847ae93f12aedb2932ab3",
       "version_major": 2,
       "version_minor": 0
      },
      "text/plain": [
       "HBox(children=(Dropdown(description='Region:', options=('All', 'Mid Atlantic - Dominion', 'Western'), value='A…"
      ]
     },
     "metadata": {},
     "output_type": "display_data"
    },
    {
     "data": {
      "application/vnd.jupyter.widget-view+json": {
       "model_id": "a85602f8e0324599a52266eb80509a01",
       "version_major": 2,
       "version_minor": 0
      },
      "text/plain": [
       "Output()"
      ]
     },
     "metadata": {},
     "output_type": "display_data"
    }
   ],
   "source": [
    "fo_lv_data = handle_forced_outages_lmp_vol_data(data)\n",
    "plot_interactive_scatter_two_features(data=fo_lv_data, feature_x=\"daily_lmp_volatility\", feature_y=\"daily_forced_outages_mw\", x_units=\"($/MWh)\", y_units=\"(MW)\", add_best_fit=True)"
   ]
  },
  {
   "cell_type": "markdown",
   "metadata": {},
   "source": [
    "Across all regions and seasons, there is a slight positive trend, suggesting that higher LMP volatility is loosely associated with increased forced outages. However, the relationship is weak, with significant scatter in the data.\n",
    "\n",
    "For the \"Mid Atlantic - Dominion\" region, the trend strengthens slightly in summer, where outages increase more sharply with rising volatility. This may highlight seasonal strain on the grid due to peak demand. In spring and fall, the data shows clustering with a moderate positive trend, reflecting steadier market behavior. Winter shows higher variability, with some extreme values indicating isolated grid stress events.\n",
    "\n",
    "For the \"Western\" region, a consistent positive trend emerges across seasons, with sharper increases during summer and winter, likely driven by seasonal temperature extremes. Spring and fall exhibit tighter clustering and lower forced outages overall, signaling more stable grid conditions."
   ]
  },
  {
   "cell_type": "code",
   "execution_count": 37,
   "metadata": {},
   "outputs": [
    {
     "data": {
      "application/vnd.jupyter.widget-view+json": {
       "model_id": "6f6dbd723f1c45448dc3e5b302360805",
       "version_major": 2,
       "version_minor": 0
      },
      "text/plain": [
       "HBox(children=(Dropdown(description='Region:', options=('All', 'Mid Atlantic - Dominion', 'Western'), value='A…"
      ]
     },
     "metadata": {},
     "output_type": "display_data"
    },
    {
     "data": {
      "application/vnd.jupyter.widget-view+json": {
       "model_id": "99bd0e91d12d4f84a7423f2b930e4aca",
       "version_major": 2,
       "version_minor": 0
      },
      "text/plain": [
       "Output()"
      ]
     },
     "metadata": {},
     "output_type": "display_data"
    }
   ],
   "source": [
    "plot_interactive_timeseries_two_features(data=fo_lv_data, feature1=\"daily_lmp_volatility\", feature2=\"daily_forced_outages_mw\", feature1_units=\"($/MWh)\", feature2_units=\"(MW)\")"
   ]
  },
  {
   "cell_type": "markdown",
   "metadata": {},
   "source": [
    "The time series analysis of daily LMP volatility and forced outages reveals distinct seasonal patterns across regions. Both metrics peak during winter and summer, coinciding with periods of extreme demand, though their relationships vary by region. In the All Regions view, LMP volatility exhibits sharp spikes during seasonal extremes, while forced outages fluctuate more consistently, suggesting a mix of operational and external factors driving outages. In the \"Mid Atlantic - Dominion\" region, LMP volatility shows clear seasonal spikes, particularly in winter, while forced outages remain steady with slight increases during colder months, indicating a decoupling of market dynamics and operational stress. Conversely, the \"Western\" region shows a stronger alignment between LMP volatility and forced outages, with both peaking in winter and summer, reflecting more synchronized grid and market pressures."
   ]
  },
  {
   "cell_type": "markdown",
   "metadata": {},
   "source": [
    "---\n",
    "# 5.0 Models\n",
    "\n"
   ]
  },
  {
   "cell_type": "markdown",
   "metadata": {},
   "source": [
    "For simplicity, only three difference types of models will be considered for target variable. "
   ]
  },
  {
   "cell_type": "code",
   "execution_count": null,
   "metadata": {},
   "outputs": [],
   "source": [
    "data = pd.read_parquet(f\"{dataframe_file_path}{output_file_name}.parquet\", engine=\"pyarrow\")"
   ]
  },
  {
   "cell_type": "markdown",
   "metadata": {},
   "source": [
    "## 5.1 Emergency Triggers"
   ]
  },
  {
   "cell_type": "markdown",
   "metadata": {},
   "source": [
    "- **Grid Reliability:** Predicting emergency triggers helps identify potential grid stress events, enabling operators and market participants to proactively manage supply-demand imbalances.\n",
    "- **Operational Preparedness:** Early predictions can assist in ensuring sufficient reserves, avoiding outages, and maintaining grid reliability during periods of high stress.\n",
    "- **Market Impacts:** Emergency conditions often lead to volatile market prices, making this prediction valuable for traders and policymakers to mitigate financial risks.\n",
    "\n",
    "**Model Specifications:**\n",
    "\n",
    "- **Target Variable**: 'emergency_triggered' - Binary 0 (Not Triggered) vs. 1 (Triggered)\n",
    "- **Features:** \n",
    "    - **Temporal Features:** 'hour, day_of_week, month, is_weekend, and season' capture time-based patterns in the grid's operation.\n",
    "    - **Lagged Features:**\n",
    "        - near_emergency: If the grid is near its emergency state, the likelihood of triggering an emergency increases.\n",
    "        - capacity_margin: Shows how close the system has been to resource limits.\n",
    "        - lmp_volatility: Reflects pricing stress, which could precede emergency conditions.\n",
    "        - region_stress_ratio: Captures historical stress levels in a region.\n",
    "    - **Rolling Averages:** \n",
    "        - lmp_volatility and region_stress_ratio: A spike in stress or volatility might last for hours/days before triggering an emergency. \n",
    "        - **Note:** *Rolling averages smooth noisy data and capture broader trends*"
   ]
  },
  {
   "cell_type": "code",
   "execution_count": null,
   "metadata": {},
   "outputs": [],
   "source": [
    "modelling_data = emergency_trigger_set_up(data)\n",
    "walk_forward_validation_classification(data=modelling_data, \n",
    "                                            target_column=\"emergency_triggered\", \n",
    "                                            model_save_path=model_output_path,\n",
    "                                            models_to_use=[\"decision_tree\", \"random_forest\", \"lightgbm\"])"
   ]
  },
  {
   "cell_type": "markdown",
   "metadata": {},
   "source": [
    "## 5.2 LMP Volatility"
   ]
  },
  {
   "cell_type": "markdown",
   "metadata": {},
   "source": [
    "- **Financial Risk Management:** High volatility in Locational Marginal Prices (LMPs) exposes market participants to price risks. Forecasting volatility enables traders to hedge their positions effectively.\n",
    "- **Congestion Awareness:** LMP volatility often correlates with transmission congestion. Predicting volatility provides insights into grid bottlenecks and opportunities for congestion management.\n",
    "- **Resource Optimization:** Accurate forecasts of price swings can guide resource dispatch, improve load forecasting, and optimize demand response strategies.\n",
    "\n",
    "**Model Specifications:**\n",
    "\n",
    "- **Target Variable**: 'lmp_volatility' - Continuous\n",
    "- **Feature:** \n",
    "    - **Temporal Features:** 'hour, day_of_week, month, is_weekend, and season' capture time-based patterns in the grid's operation.\n",
    "    - **Lagged Features:** \n",
    "        - lmp_volatility: To capture any persistence in price volatility over short to medium timeframes\n",
    "        - lmp_abs_delta: To capture the effects large changes in LMP prices have on volatility.\n",
    "        - capacity_margin: To capture hourly fluctuations and how it can impact price volatility.\n",
    "        - near_emergency: Measures how recent near emergency events relate to future volatility. This was selected over 'emergency_triggered' as it is \"softer\" signal of grid stress as actual emergencies may have an immediate effect but do not provide information abouve the lead-up to a stressed grid.\n",
    "    - **Rolling Averages:**\n",
    "        - lmp_volatility, outage_intensity and region_stress_ratio\n",
    "    - **Interaction Effects**\n",
    "        - capacity_margin x region_stress_ratio, capacity_margin x near_emergency, region_stress x outage_intensity, capacity_margin x outage_intensity\n",
    "        - **Note:** *Lagged values* will be used to create these interaction terms to reflect data availability in real-time.\n",
    "\n",
    "**Note:** Due to the granularity (hence size of data), a random foreset model will not be used in predicting lmp volatility."
   ]
  },
  {
   "cell_type": "code",
   "execution_count": null,
   "metadata": {},
   "outputs": [],
   "source": [
    "modelling_data = lmp_volatility_set_up(data)\n",
    "walk_forward_validation_regression(data=modelling_data, \n",
    "                                            target_column=\"lmp_volatility\", \n",
    "                                            model_save_path=model_output_path,\n",
    "                                            models_to_use=[\"decision_tree\", \"lightgbm\"])"
   ]
  },
  {
   "cell_type": "markdown",
   "metadata": {},
   "source": [
    "## 5.3 Forced Outages"
   ]
  },
  {
   "cell_type": "markdown",
   "metadata": {},
   "source": [
    "- **Enhancing Grid Stability:** Proactively identifying potential forced outages allows operators to mitigate risks of cascading failures, ensuring reliable electricity supply.\n",
    "- **Managing Market Impacts:** Outage predictions help market participants anticipate price spikes and congestion, optimizing resource allocation and trading strategies.\n",
    "- **Supporting Infrastructure Planning:** Patterns in forced outages provide insights into aging infrastructure, guiding investments in maintenance and system upgrades.\n",
    "\n",
    "\n",
    "For predicting forced outages (MW), we need to select features that can help capture relationships between grid performance, stress, and outage patterns.\n",
    "\n",
    "**Model Specifications:**\n",
    "- **Target Variable:** 'forced_outages_mw' - Continuous\n",
    "- **Feature:**\n",
    "    - **Temporal Features:** 'month, day_of_week, is_weekend, and season' capture time-based patterns in the grid's operation.\n",
    "    - **Lagged Features:**\n",
    "        - forced_outages_mw: Captures persistence in forced outages.\n",
    "        - outage_intensity: Measure's the grids outages severity overtime. Past intensities could indicate stress accumulation; leading to future forced outages.\n",
    "        - region_stress_ratio: Reflects how stressed a specific region was historically.\n",
    "    - **Rolling Averages:** \n",
    "        - forced_outages_mw, outage_intensity, region_stress_ratio, capacity_margin\n",
    "    - **Interaction Effects:** outage_intensity x region_stress_ratio, capacity_margin x region_stress"
   ]
  },
  {
   "cell_type": "code",
   "execution_count": null,
   "metadata": {},
   "outputs": [],
   "source": [
    "modelling_data = forced_outages_set_up(data)\n",
    "walk_forward_validation_regression(data=modelling_data, \n",
    "                                            target_column=\"forced_outages_mw\", \n",
    "                                            model_save_path=model_output_path,\n",
    "                                            models_to_use=[\"decision_tree\", \"random_forest\", \"lightgbm\"])"
   ]
  },
  {
   "cell_type": "markdown",
   "metadata": {},
   "source": [
    "# 6.0 Comments:"
   ]
  },
  {
   "cell_type": "markdown",
   "metadata": {},
   "source": [
    "**Note:** The results of this analysis should be interpreted with caution, as the differing granularities of the data (Ex., daily vs. hourly metrics and region-specific vs. system-wide measures) may introduce some inaccuracies or limit the precision of the findings. The ideal dataset would ensure that every feature has both regional and hourly granularity for a more robust and accurate analysis.\n",
    "\n",
    "Onto the dashboard!"
   ]
  }
 ],
 "metadata": {
  "kernelspec": {
   "display_name": ".venv",
   "language": "python",
   "name": "python3"
  },
  "language_info": {
   "codemirror_mode": {
    "name": "ipython",
    "version": 3
   },
   "file_extension": ".py",
   "mimetype": "text/x-python",
   "name": "python",
   "nbconvert_exporter": "python",
   "pygments_lexer": "ipython3",
   "version": "3.12.0"
  }
 },
 "nbformat": 4,
 "nbformat_minor": 2
}
